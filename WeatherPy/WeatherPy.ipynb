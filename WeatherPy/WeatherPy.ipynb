{
 "cells": [
  {
   "cell_type": "markdown",
   "metadata": {},
   "source": [
    "# WeatherPy\n",
    "----\n",
    "\n",
    "#### Note\n",
    "* Instructions have been included for each segment. You do not have to follow them exactly, but they are included to help you think through the steps."
   ]
  },
  {
   "cell_type": "code",
   "execution_count": null,
   "metadata": {
    "scrolled": true
   },
   "outputs": [],
   "source": [
    "# Dependencies and Setup\n",
    "import matplotlib.pyplot as plt\n",
    "import pandas as pd\n",
    "import numpy as np\n",
    "import requests\n",
    "import time\n",
    "import scipy.stats as sts\n",
    "from pprint import pprint\n",
    "\n",
    "# Import API key\n",
    "from api_keys import weather_api_key\n",
    "\n",
    "# Incorporated citipy to determine city based on latitude and longitude\n",
    "from citipy import citipy\n",
    "\n",
    "# Output File (CSV)\n",
    "output_data_file = \"output_data/cities.csv\"\n",
    "\n",
    "# Range of latitudes and longitudes\n",
    "lat_range = (-90, 90)\n",
    "lng_range = (-180, 180)"
   ]
  },
  {
   "cell_type": "code",
   "execution_count": null,
   "metadata": {},
   "outputs": [],
   "source": [
    "# List for holding lat_lngs and cities\n",
    "lat_lngs = []\n",
    "cities = []\n",
    "\n",
    "# Create a set of random lat and lng combinations\n",
    "lats = np.random.uniform(lat_range[0], lat_range[1], size=1500)\n",
    "lngs = np.random.uniform(lng_range[0], lng_range[1], size=1500)\n",
    "lat_lngs = zip(lats, lngs)\n",
    "\n",
    "# Identify nearest city for each lat, lng combination\n",
    "for lat_lng in lat_lngs:\n",
    "    city = citipy.nearest_city(lat_lng[0], lat_lng[1]).city_name\n",
    "    \n",
    "    # If the city is unique, then add it to a our cities list\n",
    "    if city not in cities:\n",
    "        cities.append(city)\n",
    "\n",
    "# Print the city count to confirm sufficient count\n",
    "len(cities)\n",
    "print(cities)"
   ]
  },
  {
   "cell_type": "markdown",
   "metadata": {},
   "source": [
    "### Perform API Calls\n",
    "* Perform a weather check on each city using a series of successive API calls.\n",
    "* Include a print log of each city as it'sbeing processed (with the city number and city name).\n"
   ]
  },
  {
   "cell_type": "code",
   "execution_count": null,
   "metadata": {
    "scrolled": true
   },
   "outputs": [],
   "source": [
    "#URL formatting\n",
    "url = \"http://api.openweathermap.org/data/2.5/weather?\"\n",
    "units = \"metric\"\n",
    "query_url = f\"{url}appid={weather_api_key}&units={units}&q=\"\n",
    "\n",
    "#Beginning data for loop\n",
    "citynumber = 1\n",
    "weather_data = []\n",
    "names = []\n",
    "latitudes = []\n",
    "longitudes = []\n",
    "max_temps = []\n",
    "humidities = []\n",
    "clouds = []\n",
    "winds = []\n",
    "countries = []\n",
    "dates = []\n",
    "\n",
    "#Print header\n",
    "print(\"Beginning Data Retrieval\")\n",
    "print(\"-----------------------------\")\n",
    "\n",
    "#For loop to pull in data from API\n",
    "for city in cities:\n",
    "    response = requests.get(query_url + city).json()\n",
    "    #use an exception to allow code to continue in case of error\n",
    "    try:\n",
    "        names.append(response['name'])\n",
    "        latitudes.append(response['coord']['lat'])\n",
    "        longitudes.append(response['coord']['lon'])\n",
    "        max_temps.append(response['main']['temp_max'])\n",
    "        humidities.append(response['main']['humidity'])\n",
    "        clouds.append(response['clouds']['all'])\n",
    "        winds.append(response['wind']['speed'])\n",
    "        countries.append(response['sys']['country'])\n",
    "        dates.append(response['dt'])\n",
    "    \n",
    "        print(f\"Processing Record {citynumber} | {city}\")\n",
    "    \n",
    "    except:\n",
    "        print(\"That city does not exist.\")\n",
    "\n",
    "    \n",
    "    citynumber = citynumber + 1\n",
    "\n",
    "#End of print-out so user knows data retrieval is complete\n",
    "print(\"All records processed.\")"
   ]
  },
  {
   "cell_type": "markdown",
   "metadata": {},
   "source": [
    "### Convert Raw Data to DataFrame\n",
    "* Export the city data into a .csv.\n",
    "* Display the DataFrame"
   ]
  },
  {
   "cell_type": "code",
   "execution_count": null,
   "metadata": {},
   "outputs": [],
   "source": [
    "#create a dictionary\n",
    "weather_dictionary = {\n",
    "    \"City\": names,\n",
    "    \"Lat\": latitudes,\n",
    "    \"Lng\": longitudes,\n",
    "    \"Max Temp\": max_temps,\n",
    "    \"Humidity\": humidities,\n",
    "    \"Cloudiness\": clouds,\n",
    "    \"Wind Speed\": winds,\n",
    "    \"Country\": countries,\n",
    "    \"Date\": dates\n",
    "}\n",
    "\n",
    "#pull dictionary into data frame\n",
    "weather_df = pd.DataFrame(weather_dictionary)\n",
    "weather_df.to_csv(output_data_file)\n",
    "weather_df"
   ]
  },
  {
   "cell_type": "markdown",
   "metadata": {},
   "source": [
    "## Inspect the data and remove the cities where the humidity > 100%.\n",
    "----\n",
    "Skip this step if there are no cities that have humidity > 100%. "
   ]
  },
  {
   "cell_type": "code",
   "execution_count": null,
   "metadata": {},
   "outputs": [],
   "source": [
    "#  Get the indices of cities that have humidity over 100%.\n",
    "humidity_data = weather_df.query('Humidity > 100').index.tolist()"
   ]
  },
  {
   "cell_type": "code",
   "execution_count": null,
   "metadata": {},
   "outputs": [],
   "source": [
    "# Make a new DataFrame equal to the city data to drop all humidity outliers by index.\n",
    "if not humidity_data:\n",
    "  print(\"All humidities less than or equal to 100%.\")\n",
    "\n",
    "else:\n",
    "    for i in humidity_data:\n",
    "        weather_df.drop(index=[i], axis=0, inplace=True)"
   ]
  },
  {
   "cell_type": "markdown",
   "metadata": {},
   "source": [
    "## Plotting the Data\n",
    "* Use proper labeling of the plots using plot titles (including date of analysis) and axes labels.\n",
    "* Save the plotted figures as .pngs."
   ]
  },
  {
   "cell_type": "markdown",
   "metadata": {},
   "source": [
    "## Latitude vs. Temperature Plot"
   ]
  },
  {
   "cell_type": "code",
   "execution_count": null,
   "metadata": {
    "scrolled": true
   },
   "outputs": [],
   "source": [
    "plt.scatter(weather_df['Lat'],weather_df['Max Temp'], edgecolors=\"black\")\n",
    "plt.xlabel(\"Latitude\")\n",
    "plt.ylabel(\"Max Temperature (F)\")\n",
    "plt.title(\"City Latitude vs. Max Temperature (02/02/2021)\")\n",
    "plt.grid()\n",
    "\n",
    "plt.savefig('output_data/Latitude_vs_Temperature_Plot.png')\n",
    "\n",
    "plt.show()"
   ]
  },
  {
   "cell_type": "markdown",
   "metadata": {},
   "source": [
    "## Latitude vs. Humidity Plot"
   ]
  },
  {
   "cell_type": "code",
   "execution_count": null,
   "metadata": {},
   "outputs": [],
   "source": [
    "plt.scatter(weather_df['Lat'],weather_df['Humidity'], edgecolors=\"black\")\n",
    "plt.xlabel(\"Latitude\")\n",
    "plt.ylabel(\"Humidity (%)\")\n",
    "plt.title(\"City Latitude vs. Humidity (02/02/2021)\")\n",
    "plt.grid()\n",
    "\n",
    "plt.savefig('output_data/Latitude_vs_Humidity_Plot.png')\n",
    "\n",
    "plt.show()"
   ]
  },
  {
   "cell_type": "markdown",
   "metadata": {},
   "source": [
    "## Latitude vs. Cloudiness Plot"
   ]
  },
  {
   "cell_type": "code",
   "execution_count": null,
   "metadata": {},
   "outputs": [],
   "source": [
    "plt.scatter(weather_df['Lat'],weather_df['Cloudiness'], edgecolors=\"black\")\n",
    "plt.xlabel(\"Latitude\")\n",
    "plt.ylabel(\"Cloudiness (%)\")\n",
    "plt.title(\"City Latitude vs. Cloudiness (02/02/2021)\")\n",
    "plt.grid()\n",
    "\n",
    "plt.savefig('output_data/Latitude_vs_Cloudiness_Plot.png')\n",
    "\n",
    "plt.show()"
   ]
  },
  {
   "cell_type": "markdown",
   "metadata": {},
   "source": [
    "## Latitude vs. Wind Speed Plot"
   ]
  },
  {
   "cell_type": "code",
   "execution_count": null,
   "metadata": {},
   "outputs": [],
   "source": [
    "plt.scatter(weather_df['Lat'],weather_df['Wind Speed'], edgecolors=\"black\")\n",
    "plt.xlabel(\"Latitude\")\n",
    "plt.ylabel(\"Wind Speed (mph)\")\n",
    "plt.title(\"City Latitude vs. Wind Speed (02/02/2021)\")\n",
    "plt.grid()\n",
    "\n",
    "plt.savefig('output_data/Latitude_vs_WindSpeed_Plot.png')\n",
    "\n",
    "plt.show()"
   ]
  },
  {
   "cell_type": "markdown",
   "metadata": {},
   "source": [
    "## Linear Regression"
   ]
  },
  {
   "cell_type": "code",
   "execution_count": null,
   "metadata": {},
   "outputs": [],
   "source": [
    "northern_weather_df = weather_df[weather_df.Lat >= 0]\n",
    "southern_weather_df = weather_df[weather_df.Lat <= 0]"
   ]
  },
  {
   "cell_type": "markdown",
   "metadata": {},
   "source": [
    "####  Northern Hemisphere - Max Temp vs. Latitude Linear Regression"
   ]
  },
  {
   "cell_type": "code",
   "execution_count": null,
   "metadata": {},
   "outputs": [],
   "source": [
    "# Set axises \n",
    "x_axis1 = northern_weather_df['Lat']\n",
    "y_axis1 = northern_weather_df['Max Temp']\n",
    "\n",
    "# Correlation equation\n",
    "correlation1 = sts.pearsonr(x_axis1, y_axis1)\n",
    "print(f\"The r-value is: {round(correlation1[0],6)}\")\n",
    "\n",
    "# Find linear data by using x and y axis\n",
    "(slope, intercept, rvalue, pvalue, stderr) = sts.linregress(x_axis1, y_axis1)\n",
    "\n",
    "# Calculate the regression line\n",
    "regression_line = x_axis1 * slope + intercept\n",
    "\n",
    "# Calculate the linear equation\n",
    "linear_equation = \"y = \" + str(round(slope)) + \"x + \" + str(round(intercept))\n",
    "\n",
    "# Plot the scatterplot data\n",
    "plt.scatter(x_axis1, y_axis1)\n",
    "\n",
    "# Plot the regression line on top of scatterplot\n",
    "plt.plot(x_axis1, regression_line, color=\"red\")\n",
    "\n",
    "# Print the linear equation on the scatterplot\n",
    "plt.annotate(linear_equation, (38,8), fontsize=16, color=\"red\")\n",
    "\n",
    "# Set plot labels\n",
    "plt.xlabel(\"Latitude\")\n",
    "plt.ylabel(\"Max Temperature (F)\")\n",
    "plt.title(\"Northern Hemisphere City Latitude vs. Max Temperature (02/02/2021)\")\n",
    "\n",
    "# Save figure as output .png file\n",
    "plt.savefig('output_data/Northern_Hemisphere_Latitude_vs_Temperature_Plot.png')\n",
    "\n",
    "# Print plot\n",
    "plt.show()"
   ]
  },
  {
   "cell_type": "markdown",
   "metadata": {},
   "source": [
    "####  Southern Hemisphere - Max Temp vs. Latitude Linear Regression"
   ]
  },
  {
   "cell_type": "code",
   "execution_count": null,
   "metadata": {},
   "outputs": [],
   "source": [
    "# Set axises \n",
    "x_axis2 = southern_weather_df['Lat']\n",
    "y_axis2 = southern_weather_df['Max Temp']\n",
    "\n",
    "# Correlation equation\n",
    "correlation2 = sts.pearsonr(x_axis2, y_axis2)\n",
    "print(f\"The r-value is: {round(correlation2[0],6)}\")\n",
    "\n",
    "# Find linear data by using x and y axis\n",
    "(slope, intercept, rvalue, pvalue, stderr) = sts.linregress(x_axis2, y_axis2)\n",
    "\n",
    "# Calculate the regression line\n",
    "regression_line2 = x_axis2 * slope + intercept\n",
    "\n",
    "# Calculate the linear equation\n",
    "linear_equation2 = \"y = \" + str(round(slope)) + \"x + \" + str(round(intercept))\n",
    "\n",
    "# Plot the scatterplot data\n",
    "plt.scatter(x_axis2, y_axis2)\n",
    "\n",
    "# Plot the regression line on top of scatterplot\n",
    "plt.plot(x_axis2, regression_line2, color=\"red\")\n",
    "\n",
    "# Print the linear equation on the scatterplot\n",
    "plt.annotate(linear_equation2, (-30,26), fontsize=16, color=\"red\")\n",
    "\n",
    "# Set plot labels\n",
    "plt.xlabel(\"Latitude\")\n",
    "plt.ylabel(\"Max Temperature (F)\")\n",
    "plt.title(\"Southern Hemisphere City Latitude vs. Max Temperature (02/02/2021)\")\n",
    "\n",
    "# Save figure as output .png file\n",
    "plt.savefig('output_data/Southern_Hemisphere_Latitude_vs_Temperature_Plot.png')\n",
    "\n",
    "# Print plot\n",
    "plt.show()"
   ]
  },
  {
   "cell_type": "markdown",
   "metadata": {},
   "source": [
    "####  Northern Hemisphere - Humidity (%) vs. Latitude Linear Regression"
   ]
  },
  {
   "cell_type": "code",
   "execution_count": null,
   "metadata": {},
   "outputs": [],
   "source": [
    "# Set axises \n",
    "x_axis3 = northern_weather_df['Lat']\n",
    "y_axis3 = northern_weather_df['Humidity']\n",
    "\n",
    "# Correlation equation\n",
    "correlation3 = sts.pearsonr(x_axis3, y_axis3)\n",
    "print(f\"The r-value is: {round(correlation3[0],6)}\")\n",
    "\n",
    "# Find linear data by using x and y axis\n",
    "(slope, intercept, rvalue, pvalue, stderr) = sts.linregress(x_axis3, y_axis3)\n",
    "\n",
    "# Calculate the regression line\n",
    "regression_line3 = x_axis3 * slope + intercept\n",
    "\n",
    "# Calculate the linear equation\n",
    "linear_equation3 = \"y = \" + str(round(slope)) + \"x + \" + str(round(intercept))\n",
    "\n",
    "# Plot the scatterplot data\n",
    "plt.scatter(x_axis3, y_axis3)\n",
    "\n",
    "# Plot the regression line on top of scatterplot\n",
    "plt.plot(x_axis3, regression_line3, color=\"red\")\n",
    "\n",
    "# Print the linear equation on the scatterplot\n",
    "plt.annotate(linear_equation3, (50,70), fontsize=16, color=\"red\")\n",
    "\n",
    "# Set plot labels\n",
    "plt.xlabel(\"Latitude\")\n",
    "plt.ylabel(\"Humidity (%)\")\n",
    "plt.title(\"Northern Hemisphere City Latitude vs. Humidity (02/02/2021)\")\n",
    "\n",
    "# Save figure as output .png file\n",
    "plt.savefig('output_data/Northern_Hemisphere_Latitude_vs_Humidity_Plot.png')\n",
    "\n",
    "# Print plot\n",
    "plt.show()"
   ]
  },
  {
   "cell_type": "markdown",
   "metadata": {},
   "source": [
    "####  Southern Hemisphere - Humidity (%) vs. Latitude Linear Regression"
   ]
  },
  {
   "cell_type": "code",
   "execution_count": null,
   "metadata": {},
   "outputs": [],
   "source": [
    "# Set axises \n",
    "x_axis4 = southern_weather_df['Lat']\n",
    "y_axis4 = southern_weather_df['Humidity']\n",
    "\n",
    "# Correlation equation\n",
    "correlation4 = sts.pearsonr(x_axis4, y_axis4)\n",
    "print(f\"The r-value is: {round(correlation4[0],6)}\")\n",
    "\n",
    "# Find linear data by using x and y axis\n",
    "(slope, intercept, rvalue, pvalue, stderr) = sts.linregress(x_axis4, y_axis4)\n",
    "\n",
    "# Calculate the regression line\n",
    "regression_line4 = x_axis4 * slope + intercept\n",
    "\n",
    "# Calculate the linear equation\n",
    "linear_equation4 = \"y = \" + str(round(slope)) + \"x + \" + str(round(intercept))\n",
    "\n",
    "# Plot the scatterplot data\n",
    "plt.scatter(x_axis4, y_axis4)\n",
    "\n",
    "# Plot the regression line on top of scatterplot\n",
    "plt.plot(x_axis4, regression_line4, color=\"red\")\n",
    "\n",
    "# Print the linear equation on the scatterplot\n",
    "plt.annotate(linear_equation4, (-30,67.8), fontsize=16, color=\"red\")\n",
    "\n",
    "# Set plot labels\n",
    "plt.xlabel(\"Latitude\")\n",
    "plt.ylabel(\"Humidity (%)\")\n",
    "plt.title(\"Southern Hemisphere City Latitude vs. Humidity (02/02/2021)\")\n",
    "\n",
    "# Save figure as output .png file\n",
    "plt.savefig('output_data/Southern_Hemisphere_Latitude_vs_Humidity_Plot.png')\n",
    "\n",
    "# Print plot\n",
    "plt.show()"
   ]
  },
  {
   "cell_type": "markdown",
   "metadata": {},
   "source": [
    "####  Northern Hemisphere - Cloudiness (%) vs. Latitude Linear Regression"
   ]
  },
  {
   "cell_type": "code",
   "execution_count": null,
   "metadata": {},
   "outputs": [],
   "source": [
    "# Set axises \n",
    "x_axis5 = northern_weather_df['Lat']\n",
    "y_axis5 = northern_weather_df['Cloudiness']\n",
    "\n",
    "# Correlation equation\n",
    "correlation5 = sts.pearsonr(x_axis5, y_axis5)\n",
    "print(f\"The r-value is: {round(correlation5[0],6)}\")\n",
    "\n",
    "# Find linear data by using x and y axis\n",
    "(slope, intercept, rvalue, pvalue, stderr) = sts.linregress(x_axis5, y_axis5)\n",
    "\n",
    "# Calculate the regression line\n",
    "regression_line5 = x_axis5 * slope + intercept\n",
    "\n",
    "# Calculate the linear equation\n",
    "linear_equation5 = \"y = \" + str(round(slope)) + \"x + \" + str(round(intercept))\n",
    "\n",
    "# Plot the scatterplot data\n",
    "plt.scatter(x_axis5, y_axis5)\n",
    "\n",
    "# Plot the regression line on top of scatterplot\n",
    "plt.plot(x_axis5, regression_line5, color=\"red\")\n",
    "\n",
    "# Print the linear equation on the scatterplot\n",
    "plt.annotate(linear_equation5, (50,45), fontsize=16, color=\"red\")\n",
    "\n",
    "# Set plot labels\n",
    "plt.xlabel(\"Latitude\")\n",
    "plt.ylabel(\"Cloudiness (%)\")\n",
    "plt.title(\"Northern Hemisphere City Latitude vs. Cloudiness (02/02/2021)\")\n",
    "\n",
    "# Save figure as output .png file\n",
    "plt.savefig('output_data/Northern_Hemisphere_Latitude_vs_Cloudiness_Plot.png')\n",
    "\n",
    "# Print plot\n",
    "plt.show()"
   ]
  },
  {
   "cell_type": "markdown",
   "metadata": {},
   "source": [
    "####  Southern Hemisphere - Cloudiness (%) vs. Latitude Linear Regression"
   ]
  },
  {
   "cell_type": "code",
   "execution_count": null,
   "metadata": {},
   "outputs": [],
   "source": [
    "# Set axises \n",
    "x_axis6 = southern_weather_df['Lat']\n",
    "y_axis6 = southern_weather_df['Cloudiness']\n",
    "\n",
    "# Correlation equation\n",
    "correlation6 = sts.pearsonr(x_axis6, y_axis6)\n",
    "print(f\"The r-value is: {round(correlation6[0],6)}\")\n",
    "\n",
    "# Find linear data by using x and y axis\n",
    "(slope, intercept, rvalue, pvalue, stderr) = sts.linregress(x_axis6, y_axis6)\n",
    "\n",
    "# Calculate the regression line\n",
    "regression_line6 = x_axis6 * slope + intercept\n",
    "\n",
    "# Calculate the linear equation\n",
    "linear_equation6 = \"y = \" + str(round(slope)) + \"x + \" + str(round(intercept))\n",
    "\n",
    "# Plot the scatterplot data\n",
    "plt.scatter(x_axis6, y_axis6)\n",
    "\n",
    "# Plot the regression line on top of scatterplot\n",
    "plt.plot(x_axis6, regression_line6, color=\"red\")\n",
    "\n",
    "# Print the linear equation on the scatterplot\n",
    "plt.annotate(linear_equation6, (-30,62), fontsize=16, color=\"red\")\n",
    "\n",
    "# Set plot labels\n",
    "plt.xlabel(\"Latitude\")\n",
    "plt.ylabel(\"Cloudiness (%)\")\n",
    "plt.title(\"Southern Hemisphere City Latitude vs. Cloudiness (02/02/2021)\")\n",
    "\n",
    "# Save figure as output .png file\n",
    "plt.savefig('output_data/Southern_Hemisphere_Latitude_vs_Cloudiness_Plot.png')\n",
    "\n",
    "# Print plot\n",
    "plt.show()"
   ]
  },
  {
   "cell_type": "markdown",
   "metadata": {},
   "source": [
    "####  Northern Hemisphere - Wind Speed (mph) vs. Latitude Linear Regression"
   ]
  },
  {
   "cell_type": "code",
   "execution_count": null,
   "metadata": {},
   "outputs": [],
   "source": [
    "# Set axises \n",
    "x_axis7 = northern_weather_df['Lat']\n",
    "y_axis7 = northern_weather_df['Wind Speed']\n",
    "\n",
    "# Correlation equation\n",
    "correlation7 = sts.pearsonr(x_axis7, y_axis7)\n",
    "print(f\"The r-value is: {round(correlation7[0],6)}\")\n",
    "\n",
    "# Find linear data by using x and y axis\n",
    "(slope, intercept, rvalue, pvalue, stderr) = sts.linregress(x_axis7, y_axis7)\n",
    "\n",
    "# Calculate the regression line\n",
    "regression_line7 = x_axis7 * slope + intercept\n",
    "\n",
    "# Calculate the linear equation\n",
    "linear_equation7 = \"y = \" + str(round(slope)) + \"x + \" + str(round(intercept))\n",
    "\n",
    "# Plot the scatterplot data\n",
    "plt.scatter(x_axis7, y_axis7)\n",
    "\n",
    "# Plot the regression line on top of scatterplot\n",
    "plt.plot(x_axis7, regression_line7, color=\"red\")\n",
    "\n",
    "# Print the linear equation on the scatterplot\n",
    "plt.annotate(linear_equation7, (55,2.5), fontsize=16, color=\"red\")\n",
    "\n",
    "# Set plot labels\n",
    "plt.xlabel(\"Latitude\")\n",
    "plt.ylabel(\"Wind Speed (mph)\")\n",
    "plt.title(\"Northern Hemisphere City Latitude vs. Wind Speed (02/02/2021)\")\n",
    "\n",
    "# Save figure as output .png file\n",
    "plt.savefig('output_data/Northern_Hemisphere_Latitude_vs_WindSpeed_Plot.png')\n",
    "\n",
    "# Print plot\n",
    "plt.show()"
   ]
  },
  {
   "cell_type": "markdown",
   "metadata": {},
   "source": [
    "####  Southern Hemisphere - Wind Speed (mph) vs. Latitude Linear Regression"
   ]
  },
  {
   "cell_type": "code",
   "execution_count": null,
   "metadata": {},
   "outputs": [],
   "source": [
    "# Set axises \n",
    "x_axis8 = southern_weather_df['Lat']\n",
    "y_axis8 = southern_weather_df['Wind Speed']\n",
    "\n",
    "# Correlation equation\n",
    "correlation8 = sts.pearsonr(x_axis8, y_axis8)\n",
    "print(f\"The r-value is: {round(correlation8[0],6)}\")\n",
    "\n",
    "# Find linear data by using x and y axis\n",
    "(slope, intercept, rvalue, pvalue, stderr) = sts.linregress(x_axis8, y_axis8)\n",
    "\n",
    "# Calculate the regression line\n",
    "regression_line8 = x_axis8 * slope + intercept\n",
    "\n",
    "# Calculate the linear equation\n",
    "linear_equation8 = \"y = \" + str(round(slope)) + \"x + \" + str(round(intercept))\n",
    "\n",
    "# Plot the scatterplot data\n",
    "plt.scatter(x_axis8, y_axis8)\n",
    "\n",
    "# Plot the regression line on top of scatterplot\n",
    "plt.plot(x_axis8, regression_line8, color=\"red\")\n",
    "\n",
    "# Print the linear equation on the scatterplot\n",
    "plt.annotate(linear_equation8, (-30,6), fontsize=16, color=\"red\")\n",
    "\n",
    "# Set plot labels\n",
    "plt.xlabel(\"Latitude\")\n",
    "plt.ylabel(\"Wind Speed (mph)\")\n",
    "plt.title(\"Southern Hemisphere City Latitude vs. Wind Speed (02/02/2021)\")\n",
    "\n",
    "# Save figure as output .png file\n",
    "plt.savefig('output_data/Southern_Hemisphere_Latitude_vs_WindSpeed_Plot.png')\n",
    "\n",
    "# Print plot\n",
    "plt.show()"
   ]
  }
 ],
 "metadata": {
  "anaconda-cloud": {},
  "kernel_info": {
   "name": "python3"
  },
  "kernelspec": {
   "display_name": "Python 3",
   "language": "python",
   "name": "python3"
  },
  "language_info": {
   "codemirror_mode": {
    "name": "ipython",
    "version": 3
   },
   "file_extension": ".py",
   "mimetype": "text/x-python",
   "name": "python",
   "nbconvert_exporter": "python",
   "pygments_lexer": "ipython3",
   "version": "3.8.5"
  },
  "latex_envs": {
   "LaTeX_envs_menu_present": true,
   "autoclose": false,
   "autocomplete": true,
   "bibliofile": "biblio.bib",
   "cite_by": "apalike",
   "current_citInitial": 1,
   "eqLabelWithNumbers": true,
   "eqNumInitial": 1,
   "hotkeys": {
    "equation": "Ctrl-E",
    "itemize": "Ctrl-I"
   },
   "labels_anchors": false,
   "latex_user_defs": false,
   "report_style_numbering": false,
   "user_envs_cfg": false
  },
  "nteract": {
   "version": "0.12.3"
  }
 },
 "nbformat": 4,
 "nbformat_minor": 4
}
