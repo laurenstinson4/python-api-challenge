{
 "cells": [
  {
   "cell_type": "markdown",
   "metadata": {},
   "source": [
    "# VacationPy\n",
    "----\n",
    "\n",
    "#### Note\n",
    "* Keep an eye on your API usage. Use https://developers.google.com/maps/reporting/gmp-reporting as reference for how to monitor your usage and billing.\n",
    "\n",
    "* Instructions have been included for each segment. You do not have to follow them exactly, but they are included to help you think through the steps."
   ]
  },
  {
   "cell_type": "code",
   "execution_count": null,
   "metadata": {},
   "outputs": [],
   "source": [
    "# Dependencies and Setup\n",
    "import matplotlib.pyplot as plt\n",
    "import pandas as pd\n",
    "import numpy as np\n",
    "import requests\n",
    "import gmaps\n",
    "import os\n",
    "from pprint import pprint\n",
    "\n",
    "# Import API key\n",
    "from api_keys import g_key"
   ]
  },
  {
   "cell_type": "markdown",
   "metadata": {},
   "source": [
    "### Store Part I results into DataFrame\n",
    "* Load the csv exported in Part I to a DataFrame"
   ]
  },
  {
   "cell_type": "code",
   "execution_count": null,
   "metadata": {},
   "outputs": [],
   "source": [
    "# Pull in CSV file and save as data frame\n",
    "data_path = \"../WeatherPy/output_data/cities.csv\"\n",
    "vacation_df = pd.read_csv(data_path)\n",
    "vacation_df"
   ]
  },
  {
   "cell_type": "markdown",
   "metadata": {},
   "source": [
    "### Humidity Heatmap\n",
    "* Configure gmaps.\n",
    "* Use the Lat and Lng as locations and Humidity as the weight.\n",
    "* Add Heatmap layer to map."
   ]
  },
  {
   "cell_type": "code",
   "execution_count": null,
   "metadata": {},
   "outputs": [],
   "source": [
    "# Configure gmaps function\n",
    "gmaps.configure(api_key=g_key)"
   ]
  },
  {
   "cell_type": "code",
   "execution_count": null,
   "metadata": {},
   "outputs": [],
   "source": [
    "# Set variables to certain columns in data frame\n",
    "locations = vacation_df[[\"Lat\", \"Lng\"]]\n",
    "humidity = vacation_df[\"Humidity\"]"
   ]
  },
  {
   "cell_type": "code",
   "execution_count": null,
   "metadata": {},
   "outputs": [],
   "source": [
    "# Plot Heatmap\n",
    "heatmap = gmaps.figure(center=(46.0, -5.0), zoom_level=2)\n",
    "\n",
    "# Create heat layer\n",
    "heat_layer = gmaps.heatmap_layer(locations, weights=humidity,\n",
    "                                 dissipating=False, max_intensity=100, \n",
    "                                 point_radius=3)\n",
    "# Add layer\n",
    "heatmap.add_layer(heat_layer)\n",
    "\n",
    "# Display figure\n",
    "heatmap"
   ]
  },
  {
   "cell_type": "markdown",
   "metadata": {},
   "source": [
    "### Create new DataFrame fitting weather criteria\n",
    "* Narrow down the cities to fit weather conditions.\n",
    "* Drop any rows will null values."
   ]
  },
  {
   "cell_type": "code",
   "execution_count": null,
   "metadata": {},
   "outputs": [],
   "source": [
    "# Set my ideal weather conditions\n",
    "perfect_weather_df = vacation_df.loc[(vacation_df[\"Max Temp\"]>=18) & \n",
    "                                     (vacation_df[\"Max Temp\"]<=28) & \n",
    "                                     (vacation_df[\"Humidity\"]<50) & \n",
    "                                     (vacation_df[\"Cloudiness\"]<25) &\n",
    "                                     (vacation_df[\"Wind Speed\"]<2)\n",
    "                                    ]\n",
    "perfect_weather_df = perfect_weather_df.dropna(how='any')\n",
    "perfect_weather_df"
   ]
  },
  {
   "cell_type": "markdown",
   "metadata": {},
   "source": [
    "### Hotel Map\n",
    "* Store into variable named `hotel_df`.\n",
    "* Add a \"Hotel Name\" column to the DataFrame.\n",
    "* Set parameters to search for hotels with 5000 meters.\n",
    "* Hit the Google Places API for each city's coordinates.\n",
    "* Store the first Hotel result into the DataFrame.\n",
    "* Plot markers on top of the heatmap."
   ]
  },
  {
   "cell_type": "code",
   "execution_count": null,
   "metadata": {},
   "outputs": [],
   "source": [
    "# Set search URL and parameters for search\n",
    "base_url = \"https://maps.googleapis.com/maps/api/place/nearbysearch/json\"\n",
    "params = {\n",
    "    \"keyword\": \"hotel\",\n",
    "    \"radius\": 5000,\n",
    "    \"type\": \"hotel\",\n",
    "    \"key\": g_key\n",
    "}\n",
    "\n",
    "hotel_names = []\n",
    "hover_text = []\n",
    "\n",
    "# For loop to look through API results for latitudes/longitudes and pull in the first hotel in search results\n",
    "for index, row in hotel_df.iterrows():\n",
    "    lat = row[\"Lat\"]\n",
    "    lng = row[\"Lng\"]\n",
    "    \n",
    "    params[\"location\"] = f\"{lat},{lng}\"\n",
    "\n",
    "    response = requests.get(base_url, params=params)\n",
    "    hotel_data = response.json()\n",
    "    \n",
    "    city = row[\"City\"]\n",
    "    country = row[\"Country\"]\n",
    "    \n",
    "    try:\n",
    "        hotel_df.loc[index, 'Hotel Name'] = hotel_data['results'][0]['name']\n",
    "        print(f\"Located the closest hotel to {city}, {country}.\")\n",
    "        #hotel_names.append(hotel_data['results'][0]['name'])\n",
    "    except (KeyError, IndexError):\n",
    "        print(f\"Unable to locate the closest hotel to {city}, {country}.\")\n",
    "\n",
    "# New data frame to hold hotel information\n",
    "hotel_df = hotel_df.loc[:,[\"City\", \"Country\", \"Lat\", \"Lng\", \"Hotel Name\"]]\n",
    "hotel_df = hotel_df.dropna(how=\"any\")\n",
    "hotel_df"
   ]
  },
  {
   "cell_type": "code",
   "execution_count": null,
   "metadata": {},
   "outputs": [],
   "source": [
    "# NOTE: Do not change any of the code in this cell\n",
    "\n",
    "# Using the template add the hotel marks to the heatmap\n",
    "info_box_template = \"\"\"\n",
    "<dl>\n",
    "<dt>Name</dt><dd>{Hotel Name}</dd>\n",
    "<dt>City</dt><dd>{City}</dd>\n",
    "<dt>Country</dt><dd>{Country}</dd>\n",
    "</dl>\n",
    "\"\"\"\n",
    "# Store the DataFrame Row\n",
    "# NOTE: be sure to update with your DataFrame name\n",
    "hotel_info = [info_box_template.format(**row) for index, row in hotel_df.iterrows()]\n",
    "locations = hotel_df[[\"Lat\", \"Lng\"]]"
   ]
  },
  {
   "cell_type": "code",
   "execution_count": null,
   "metadata": {},
   "outputs": [],
   "source": [
    "# Add marker layer ontop of heat map\n",
    "marker_layer = gmaps.marker_layer(locations,info_box_content=hotel_info)\n",
    "heatmap.add_layer(marker_layer)\n",
    "\n",
    "# Display figure\n",
    "heatmap"
   ]
  },
  {
   "cell_type": "markdown",
   "metadata": {},
   "source": [
    "DATA ANALYSIS:\n",
    "\n",
    "1. Surprisingly, there is very little correlation between weather conditions and the location's latitude. The highest correlation is temperature, but even it only has around a +/- 0.72 R-value on average.\n",
    "2. There are very few locations with \"ideal\" weather conditions. I was surprised to see that very few ideal locations were on the coasts, but according to the heat map, most coastal locations tend to have higher humudities.\n",
    "3. Wind speed has almost no correlation to latitude. The scatter plots are all over the place and the average R-value is +/- 0.17. "
   ]
  }
 ],
 "metadata": {
  "kernelspec": {
   "display_name": "Python 3",
   "language": "python",
   "name": "python3"
  },
  "language_info": {
   "codemirror_mode": {
    "name": "ipython",
    "version": 3
   },
   "file_extension": ".py",
   "mimetype": "text/x-python",
   "name": "python",
   "nbconvert_exporter": "python",
   "pygments_lexer": "ipython3",
   "version": "3.8.5"
  },
  "latex_envs": {
   "LaTeX_envs_menu_present": true,
   "autoclose": false,
   "autocomplete": true,
   "bibliofile": "biblio.bib",
   "cite_by": "apalike",
   "current_citInitial": 1,
   "eqLabelWithNumbers": true,
   "eqNumInitial": 1,
   "hotkeys": {
    "equation": "Ctrl-E",
    "itemize": "Ctrl-I"
   },
   "labels_anchors": false,
   "latex_user_defs": false,
   "report_style_numbering": false,
   "user_envs_cfg": false
  }
 },
 "nbformat": 4,
 "nbformat_minor": 4
}
